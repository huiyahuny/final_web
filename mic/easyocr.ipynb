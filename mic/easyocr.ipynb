{
 "cells": [
  {
   "cell_type": "code",
   "execution_count": 1,
   "metadata": {},
   "outputs": [
    {
     "name": "stderr",
     "output_type": "stream",
     "text": [
      "CUDA not available - defaulting to CPU. Note: This module is much faster with a GPU.\n",
      "Downloading detection model, please wait. This may take several minutes depending upon your network connection.\n"
     ]
    },
    {
     "name": "stdout",
     "output_type": "stream",
     "text": [
      "Progress: |██████████████████████████████████████████████████| 100.0% Complete"
     ]
    },
    {
     "name": "stderr",
     "output_type": "stream",
     "text": [
      "Downloading recognition model, please wait. This may take several minutes depending upon your network connection.\n"
     ]
    },
    {
     "name": "stdout",
     "output_type": "stream",
     "text": [
      "Progress: |██████████████████████████████████████████████████| 100.1% Complete1 (1, 0)\n"
     ]
    }
   ],
   "source": [
    "import easyocr\n",
    "def get_score(level) :\n",
    "        if level == 1:\n",
    "            score = 0\n",
    "        elif level == 2:\n",
    "            score = 1\n",
    "        elif 3 <= level <= 4:\n",
    "            score = 2\n",
    "        elif level == 5:\n",
    "            score = 3\n",
    "        else:\n",
    "            score = 4\n",
    "            \n",
    "        return level, score\n",
    "\n",
    "reader = easyocr.Reader(['ko', 'en'])\n",
    "file_name = 'static/5/img/1Z5xG9KA2BWcBF71Brcx7P2mqC3imjDn.png'\n",
    "with open(file_name,'rb') as pf:\n",
    "        img = pf.read()\n",
    "        result = reader.readtext(img)\n",
    "        for res in result:\n",
    "            if res[1][0:10] == 'Your level':    \n",
    "                level = res[1][-1]\n",
    "                result = get_score(int(level))\n",
    "                print(level, result)"
   ]
  },
  {
   "cell_type": "code",
   "execution_count": 15,
   "metadata": {},
   "outputs": [
    {
     "name": "stdout",
     "output_type": "stream",
     "text": [
      "09\n",
      "['01', '02', '03', '04', '05', '06', '07', '08', '10']\n"
     ]
    }
   ],
   "source": [
    "from random import choice\n",
    "stroop = ['01', '02', '03', '04', '05', '06', '07', '08', '09', '10']\n",
    "\n",
    "a = choice(stroop)\n",
    "print(a)\n",
    "\n",
    "stroop.remove(a)\n",
    "\n",
    "print(stroop)"
   ]
  },
  {
   "cell_type": "code",
   "execution_count": 11,
   "metadata": {},
   "outputs": [
    {
     "name": "stdout",
     "output_type": "stream",
     "text": [
      "dict_keys(['01', '02', '03', '04', '05', '06', '07', '08', '09', '10'])\n"
     ]
    }
   ],
   "source": [
    "\n",
    "\n",
    "dic = {'01':'mci/static/2/img/001.png', '02':'mci/static/2/img/002.png', '03':'mci/static/2/img/003.png', '04':'mci/static/2/img/004.png',\n",
    "'05':'mci/static/2/img/005.png', '06':'mci/static/2/img/006.png', '07':'mci/static/2/img/007.png', '08':'mci/static/2/img/008.png',\n",
    "'09':'mci/static/2/img/009.png', '10':'mci/static/2/img/010.png'}"
   ]
  }
 ],
 "metadata": {
  "kernelspec": {
   "display_name": "Python 3",
   "language": "python",
   "name": "python3"
  },
  "language_info": {
   "codemirror_mode": {
    "name": "ipython",
    "version": 3
   },
   "file_extension": ".py",
   "mimetype": "text/x-python",
   "name": "python",
   "nbconvert_exporter": "python",
   "pygments_lexer": "ipython3",
   "version": "3.8.16"
  },
  "orig_nbformat": 4,
  "vscode": {
   "interpreter": {
    "hash": "76eb39e8d0c444d1224208ec75ffc06fdb01b544b1dadd8874c3ede80523fe07"
   }
  }
 },
 "nbformat": 4,
 "nbformat_minor": 2
}
